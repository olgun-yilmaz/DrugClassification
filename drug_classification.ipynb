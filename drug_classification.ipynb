{
 "cells": [
  {
   "cell_type": "code",
   "id": "initial_id",
   "metadata": {
    "collapsed": true,
    "ExecuteTime": {
     "end_time": "2025-01-30T15:30:22.078756Z",
     "start_time": "2025-01-30T15:30:18.771602Z"
    }
   },
   "source": [
    "# import libraries\n",
    "import numpy as np\n",
    "import pandas as pd\n",
    "import matplotlib.pyplot as plt\n",
    "\n",
    "import tensorflow as tf\n",
    "from tensorflow import keras\n",
    "from tensorflow.keras import layers, models\n",
    "from keras_preprocessing.image import ImageDataGenerator\n",
    "from keras.layers import Dense, Dropout\n",
    "from tensorflow.keras.callbacks import EarlyStopping, ModelCheckpoint\n",
    "from tensorflow.keras.optimizers import Adam\n",
    "from tensorflow.keras.applications import MobileNetV2\n",
    "from tensorflow.keras import Model\n",
    "from tensorflow.keras.layers.experimental import preprocessing\n",
    "\n",
    "from pathlib import Path\n",
    "import os.path\n",
    "\n",
    "from sklearn.metrics import classification_report\n",
    "\n",
    "import warnings\n",
    "warnings.filterwarnings(\"ignore\")"
   ],
   "outputs": [],
   "execution_count": 1
  },
  {
   "metadata": {
    "ExecuteTime": {
     "end_time": "2025-01-30T15:45:21.320083Z",
     "start_time": "2025-01-30T15:45:21.174501Z"
    }
   },
   "cell_type": "code",
   "source": [
    "# load data\n",
    "#via : https://www.kaggle.com/datasets/vencerlanz09/pharmaceutical-drugs-and-vitamins-dataset-v2\n",
    "\n",
    "dataset = 'res/Drug Vision/Data Combined'\n",
    "img_dir = Path(dataset)\n",
    "\n",
    "file_paths = list(img_dir.glob(r'**/*.jpg')) + list(img_dir.glob(r'**/*.png'))\n",
    "\n",
    "\n",
    "labels = list(map(lambda x : os.path.split(os.path.split(x)[0])[1], file_paths))\n",
    "\n",
    "file_paths = pd.Series(file_paths, name = 'file_path').astype('str')\n",
    "labels = pd.Series(labels, name = 'label').astype('str')\n",
    "\n",
    "img_df = pd.concat([file_paths, labels], axis=1)"
   ],
   "id": "71b2117725b79bde",
   "outputs": [],
   "execution_count": 4
  },
  {
   "metadata": {
    "ExecuteTime": {
     "end_time": "2025-01-30T15:45:22.798294Z",
     "start_time": "2025-01-30T15:45:22.779449Z"
    }
   },
   "cell_type": "code",
   "source": "img_df",
   "id": "c1c378ce1ffdf071",
   "outputs": [
    {
     "data": {
      "text/plain": [
       "                                              file_path   label\n",
       "0     res\\Drug Vision\\Data Combined\\Alaxan\\00000000.jpg  Alaxan\n",
       "1     res\\Drug Vision\\Data Combined\\Alaxan\\00000001.jpg  Alaxan\n",
       "2     res\\Drug Vision\\Data Combined\\Alaxan\\00000002.jpg  Alaxan\n",
       "3     res\\Drug Vision\\Data Combined\\Alaxan\\00000003.jpg  Alaxan\n",
       "4     res\\Drug Vision\\Data Combined\\Alaxan\\00000004.jpg  Alaxan\n",
       "...                                                 ...     ...\n",
       "9995  res\\Drug Vision\\Data Combined\\Neozep\\00000995.jpg  Neozep\n",
       "9996  res\\Drug Vision\\Data Combined\\Neozep\\00000996.jpg  Neozep\n",
       "9997  res\\Drug Vision\\Data Combined\\Neozep\\00000997.jpg  Neozep\n",
       "9998  res\\Drug Vision\\Data Combined\\Neozep\\00000998.jpg  Neozep\n",
       "9999  res\\Drug Vision\\Data Combined\\Neozep\\00000999.jpg  Neozep\n",
       "\n",
       "[10000 rows x 2 columns]"
      ],
      "text/html": [
       "<div>\n",
       "<style scoped>\n",
       "    .dataframe tbody tr th:only-of-type {\n",
       "        vertical-align: middle;\n",
       "    }\n",
       "\n",
       "    .dataframe tbody tr th {\n",
       "        vertical-align: top;\n",
       "    }\n",
       "\n",
       "    .dataframe thead th {\n",
       "        text-align: right;\n",
       "    }\n",
       "</style>\n",
       "<table border=\"1\" class=\"dataframe\">\n",
       "  <thead>\n",
       "    <tr style=\"text-align: right;\">\n",
       "      <th></th>\n",
       "      <th>file_path</th>\n",
       "      <th>label</th>\n",
       "    </tr>\n",
       "  </thead>\n",
       "  <tbody>\n",
       "    <tr>\n",
       "      <th>0</th>\n",
       "      <td>res\\Drug Vision\\Data Combined\\Alaxan\\00000000.jpg</td>\n",
       "      <td>Alaxan</td>\n",
       "    </tr>\n",
       "    <tr>\n",
       "      <th>1</th>\n",
       "      <td>res\\Drug Vision\\Data Combined\\Alaxan\\00000001.jpg</td>\n",
       "      <td>Alaxan</td>\n",
       "    </tr>\n",
       "    <tr>\n",
       "      <th>2</th>\n",
       "      <td>res\\Drug Vision\\Data Combined\\Alaxan\\00000002.jpg</td>\n",
       "      <td>Alaxan</td>\n",
       "    </tr>\n",
       "    <tr>\n",
       "      <th>3</th>\n",
       "      <td>res\\Drug Vision\\Data Combined\\Alaxan\\00000003.jpg</td>\n",
       "      <td>Alaxan</td>\n",
       "    </tr>\n",
       "    <tr>\n",
       "      <th>4</th>\n",
       "      <td>res\\Drug Vision\\Data Combined\\Alaxan\\00000004.jpg</td>\n",
       "      <td>Alaxan</td>\n",
       "    </tr>\n",
       "    <tr>\n",
       "      <th>...</th>\n",
       "      <td>...</td>\n",
       "      <td>...</td>\n",
       "    </tr>\n",
       "    <tr>\n",
       "      <th>9995</th>\n",
       "      <td>res\\Drug Vision\\Data Combined\\Neozep\\00000995.jpg</td>\n",
       "      <td>Neozep</td>\n",
       "    </tr>\n",
       "    <tr>\n",
       "      <th>9996</th>\n",
       "      <td>res\\Drug Vision\\Data Combined\\Neozep\\00000996.jpg</td>\n",
       "      <td>Neozep</td>\n",
       "    </tr>\n",
       "    <tr>\n",
       "      <th>9997</th>\n",
       "      <td>res\\Drug Vision\\Data Combined\\Neozep\\00000997.jpg</td>\n",
       "      <td>Neozep</td>\n",
       "    </tr>\n",
       "    <tr>\n",
       "      <th>9998</th>\n",
       "      <td>res\\Drug Vision\\Data Combined\\Neozep\\00000998.jpg</td>\n",
       "      <td>Neozep</td>\n",
       "    </tr>\n",
       "    <tr>\n",
       "      <th>9999</th>\n",
       "      <td>res\\Drug Vision\\Data Combined\\Neozep\\00000999.jpg</td>\n",
       "      <td>Neozep</td>\n",
       "    </tr>\n",
       "  </tbody>\n",
       "</table>\n",
       "<p>10000 rows × 2 columns</p>\n",
       "</div>"
      ]
     },
     "execution_count": 5,
     "metadata": {},
     "output_type": "execute_result"
    }
   ],
   "execution_count": 5
  },
  {
   "metadata": {},
   "cell_type": "code",
   "outputs": [],
   "execution_count": null,
   "source": "",
   "id": "6fbe930a65e4be9c"
  }
 ],
 "metadata": {
  "kernelspec": {
   "display_name": "Python 3",
   "language": "python",
   "name": "python3"
  },
  "language_info": {
   "codemirror_mode": {
    "name": "ipython",
    "version": 2
   },
   "file_extension": ".py",
   "mimetype": "text/x-python",
   "name": "python",
   "nbconvert_exporter": "python",
   "pygments_lexer": "ipython2",
   "version": "2.7.6"
  }
 },
 "nbformat": 4,
 "nbformat_minor": 5
}
